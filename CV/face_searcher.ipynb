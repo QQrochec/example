{
 "cells": [
  {
   "cell_type": "code",
   "execution_count": 171,
   "id": "df76b367",
   "metadata": {},
   "outputs": [],
   "source": [
    "import cv2\n"
   ]
  },
  {
   "cell_type": "code",
   "execution_count": 188,
   "id": "fbee088a",
   "metadata": {},
   "outputs": [],
   "source": [
    "def show_img(image, win_name = 'Hello', coef:'size coefficient' = 0):\n",
    "    if coef:\n",
    "        image = cv2.resize(image, (image.shape[1]//coef, image.shape[0]//coef))\n",
    "    cv2.imshow(win_name, image)\n",
    "    cv2.waitKey(0)\n",
    "    cv2.destroyAllWindows()\n",
    "    "
   ]
  },
  {
   "cell_type": "code",
   "execution_count": 189,
   "id": "2dc67acb",
   "metadata": {},
   "outputs": [],
   "source": [
    "girl = cv2.imread('image3.png')\n",
    "show_img(girl, 'Girl in red', 2)\n",
    "\n",
    "gray_img = cv2.cvtColor(girl, cv2.COLOR_RGB2GRAY)\n",
    "canny_girl = cv2.Canny(gray_img, 100, 100)\n",
    "show_img(canny_girl, 'Girl after canny', 2)"
   ]
  },
  {
   "cell_type": "code",
   "execution_count": 193,
   "id": "d459217d",
   "metadata": {},
   "outputs": [],
   "source": [
    "head_girl = girl[:300, 350:650]\n",
    "show_img(head_girl, 'Girl in red')\n",
    "gray_img = cv2.cvtColor(head_girl, cv2.COLOR_RGB2GRAY)"
   ]
  },
  {
   "cell_type": "code",
   "execution_count": 191,
   "id": "f23b7d46",
   "metadata": {},
   "outputs": [],
   "source": [
    "face_cascade = cv2.CascadeClassifier('haarcascade_frontalface_default.xml')\n",
    "face = face_cascade.detectMultiScale(gray_img, scaleFactor= 1.1, minNeighbors= 5, minSize=(30, 30))\n",
    "for (x, y, w, h) in face:\n",
    "    face_girl = cv2.rectangle(head_girl, (x, y), (x+w, y+h), (0, 255, 0), 2)\n",
    "show_img(face_girl, 'Face detected')\n"
   ]
  },
  {
   "cell_type": "code",
   "execution_count": null,
   "id": "b08beaae",
   "metadata": {},
   "outputs": [],
   "source": []
  }
 ],
 "metadata": {
  "kernelspec": {
   "display_name": "Python 3 (ipykernel)",
   "language": "python",
   "name": "python3"
  },
  "language_info": {
   "codemirror_mode": {
    "name": "ipython",
    "version": 3
   },
   "file_extension": ".py",
   "mimetype": "text/x-python",
   "name": "python",
   "nbconvert_exporter": "python",
   "pygments_lexer": "ipython3",
   "version": "3.10.0"
  }
 },
 "nbformat": 4,
 "nbformat_minor": 5
}
